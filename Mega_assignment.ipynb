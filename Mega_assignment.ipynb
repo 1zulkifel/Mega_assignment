{
 "cells": [
  {
   "cell_type": "markdown",
   "metadata": {},
   "source": [
    "# Name: Zulkifel Ahmad Bihari\n",
    "PIAIC Batch 3 Islamabad,\n",
    "Reg.no: PIAIC56044"
   ]
  },
  {
   "cell_type": "code",
   "execution_count": null,
   "metadata": {},
   "outputs": [],
   "source": [
    "\n",
    "1- Which of the following terms are related to dictionaries?\n",
    "a. value\n",
    "b. item\n",
    "c. index\n",
    "d. key\n",
    "Ans (a and d)\n",
    "\n",
    "2- Just like lists, + operator is used to extend dictionaries?\n",
    "a. True\n",
    "b. False\n",
    "Ans: No it not used to extend dictionaries dictionaries\n",
    "    \n",
    "\n",
    "3- To access items from a dictionary, we specify the index of that item within [] like myDict[0]?\n",
    "a. True\n",
    "b. False\n",
    " Ans:No it can be assessed through keys.\n",
    "\n",
    "4- When we use [] to access the value from a dictionary which does not exist in that dictionary….?\n",
    "a. Value within [] is added to the dictionary\n",
    "b. Value None is returned\n",
    "c. New dictionary is created\n",
    "d. None of above\n",
    "\n",
    "Ans: None of above\n",
    "\n",
    "5- What does return the pop method of a dictionary?\n",
    "a. list\n",
    "b. tuple containing the pair of last item of the dictionary\n",
    "c. dictionary\n",
    "d. value of the key, if it exists in the dictionary\n",
    "\n",
    "Ans: value of the key, if it exists in the dictionary\n",
    "    \n",
    "\n",
    "\n",
    "7- Which of the following 2 methods can be used to iterate through the items of a dictionary?\n",
    "a. items()\n",
    "b. values()\n",
    "c. indexes()\n",
    "d. keys()\n",
    "\n",
    "Ans: a and d\n",
    "    \n",
    "8- Which one of the following is used to enclose a dictionary?\n",
    "a. () parenthesis\n",
    "b. {} curly brackets\n",
    "c. [] square brackets\n",
    "d. “” quotation marks\n",
    "\n",
    "Ans:b\n",
    "    \n",
    "#11-11- X = ['Feb', 'Apr', 'Mar', 'May', 'Jun', 'Jul', 'Aug', 'Jan']. What will be output of following?\n",
    "ANS:\n",
    "X[0:3] O/p  ['Feb', 'Apr', 'Mar',]\n",
    "X[2:8] o/p  ['Mar', 'May', 'Jun', 'Jul', 'Aug', 'Jan']\n",
    "X[4:9] o/p  ['Jun', 'Jul', 'Aug', 'Jan']\n",
    "X[1:7:2] o/p ['Apr', 'May', 'Jul']\n",
    "X[-1:-7] o/p []\n",
    "X[-7:7]  o/p ['Apr', 'Mar', 'May', 'Jun', 'Jul', 'Aug']\n",
    "X[-1:-8:-2] o/p ['Jan', 'Jul', 'May', 'Apr']\n",
    "X[:4] o/p ['Feb', 'Apr', 'Mar', 'May']\n",
    "\n",
    "\n",
    "#16. What are the optional arguments to the function? function_1(R1, q, p=None, R2= None)\n",
    "Ans (p=None ,R2= None)"
   ]
  },
  {
   "cell_type": "code",
   "execution_count": 24,
   "metadata": {},
   "outputs": [
    {
     "data": {
      "text/plain": [
       "dict_items([('Name', 'zulkifel'), ('DoB', '10-05-1994'), ('Gender', 'Male')])"
      ]
     },
     "execution_count": 24,
     "metadata": {},
     "output_type": "execute_result"
    }
   ],
   "source": [
    "#9- Write Python Program add key-value pair in dictionary and check if a Given Key or Value or Both Exists in a Dictionary or Not\n",
    "myDict = {\n",
    "    \"Name\":\"zulkifel\",\n",
    "    \"DoB\":\"10-05-1994\",\n",
    "    \"Gender\":\"Male\"\n",
    "         }\n",
    "myDict.items()\n",
    "\n",
    "    "
   ]
  },
  {
   "cell_type": "code",
   "execution_count": 1,
   "metadata": {},
   "outputs": [
    {
     "name": "stdout",
     "output_type": "stream",
     "text": [
      "a   5\n",
      "a frequancy is  0 times\n",
      "l   4\n",
      "i   6\n",
      "i frequancy is  2 times\n",
      "    6\n",
      "s   2\n",
      "n   1\n",
      "n frequancy is  12 times\n",
      "d   1\n"
     ]
    }
   ],
   "source": [
    "#10- Write a Python Program to Count the Frequency of Words Appearing in a String Using a Dictionary and\n",
    "#print only the words having Even (divisible by 2) frequency.\n",
    "name= \"ali is ali and ali is ali\"\n",
    "i=0\n",
    "for a in name:\n",
    "    if name.index(a)==i:\n",
    "        print(a, \" \",name.count(a))\n",
    "        if i%2==0:\n",
    "            print(a ,\"frequancy is \",str(i) ,\"times\")\n",
    "    i=i+1\n",
    "\n",
    "        \n",
    "        "
   ]
  },
  {
   "cell_type": "code",
   "execution_count": 59,
   "metadata": {},
   "outputs": [
    {
     "data": {
      "text/plain": [
       "['Feb', 'Apr', 'Mar', 'May']"
      ]
     },
     "execution_count": 59,
     "metadata": {},
     "output_type": "execute_result"
    }
   ],
   "source": [
    "X = [\"Feb\", \"Apr\", \"Mar\", \"May\", \"Jun\", \"Jul\", \"Aug\", \"Jan\"]\n",
    "\n",
    "X[:4]"
   ]
  },
  {
   "cell_type": "code",
   "execution_count": 70,
   "metadata": {},
   "outputs": [
    {
     "name": "stdout",
     "output_type": "stream",
     "text": [
      "[2, 8, 4, 5]\n"
     ]
    }
   ],
   "source": [
    "#12. Remove the correct number from the list X\n",
    "X = [ 9,2,8,4,5]\n",
    "X.remove(9)\n",
    "print(X)\n"
   ]
  },
  {
   "cell_type": "code",
   "execution_count": 78,
   "metadata": {},
   "outputs": [
    {
     "name": "stdout",
     "output_type": "stream",
     "text": [
      "hello!hello!hello!\n"
     ]
    }
   ],
   "source": [
    "#13. p = 3 ,q = 'hello! ',print( q __?__ p),hello! hello! hello!\n",
    "p=3\n",
    "q =\"hello!\"\n",
    "print (q* p)\n"
   ]
  },
  {
   "cell_type": "code",
   "execution_count": 81,
   "metadata": {},
   "outputs": [
    {
     "name": "stdout",
     "output_type": "stream",
     "text": [
      "this is a random sentence\n"
     ]
    },
    {
     "data": {
      "text/plain": [
       "'THIS IS A RANDOM SENTENCE'"
      ]
     },
     "execution_count": 81,
     "metadata": {},
     "output_type": "execute_result"
    }
   ],
   "source": [
    "#14.\n",
    "y = \"this is a random sentence\"\n",
    "print (y)\n",
    "y.upper()"
   ]
  },
  {
   "cell_type": "code",
   "execution_count": 90,
   "metadata": {},
   "outputs": [
    {
     "name": "stdout",
     "output_type": "stream",
     "text": [
      "<class 'bool'>\n",
      "<class 'int'>\n",
      "<class 'float'>\n"
     ]
    }
   ],
   "source": [
    "p=True\n",
    "print(type(p))\n",
    "#q=‘True’ SyntaxError: invalid character in identifier   \n",
    "r=2\n",
    "print(type(r))\n",
    "r=2.0\n",
    "print(type(r))"
   ]
  },
  {
   "cell_type": "code",
   "execution_count": null,
   "metadata": {},
   "outputs": [],
   "source": [
    "#17. Which command invokes method X() of the object p?\n",
    "1) X(p)\n",
    "2) p$x()\n",
    "3) X().p\n",
    "4) p.x()# is correct\n"
   ]
  },
  {
   "cell_type": "code",
   "execution_count": 91,
   "metadata": {},
   "outputs": [
    {
     "name": "stdout",
     "output_type": "stream",
     "text": [
      "0\n",
      "2.0\n",
      "2\n",
      "2\n"
     ]
    }
   ],
   "source": [
    "#18. \n",
    "X=4 \n",
    "Y= 2\n",
    "print(X % Y)\n",
    "print(X / Y)\n",
    "print(X // Y)\n",
    "print(Y % X)"
   ]
  },
  {
   "cell_type": "code",
   "execution_count": 96,
   "metadata": {},
   "outputs": [
    {
     "name": "stdout",
     "output_type": "stream",
     "text": [
      "4\n",
      "1\n",
      "1\n",
      "5\n",
      "9\n",
      "0\n"
     ]
    }
   ],
   "source": [
    "#19.\n",
    "x = [[4, 1, 1], [5, 9, 0]]\n",
    "\n",
    "for i in x:\n",
    "    for k in i:\n",
    "        print(k)"
   ]
  },
  {
   "cell_type": "code",
   "execution_count": 104,
   "metadata": {},
   "outputs": [
    {
     "name": "stdout",
     "output_type": "stream",
     "text": [
      "4 1 1 5 9 0 "
     ]
    }
   ],
   "source": [
    "x = [[4, 1, 1], [5, 9, 0]]\n",
    "\n",
    "for i in x:\n",
    "    for k in i:\n",
    "        print(k,end=\" \")\n",
    "    "
   ]
  },
  {
   "cell_type": "code",
   "execution_count": 151,
   "metadata": {},
   "outputs": [
    {
     "name": "stdout",
     "output_type": "stream",
     "text": [
      "4  1  1  \n",
      "\n",
      "5  9  0  \n",
      "\n"
     ]
    }
   ],
   "source": [
    "x = [[4, 1, 1], [5, 9, 0]]\n",
    "\n",
    "for i in x:\n",
    "    for k in i:\n",
    "        print(k, end= \"  \")\n",
    "    print(\"\\n\")\n",
    "       \n",
    "\n",
    "       \n"
   ]
  },
  {
   "cell_type": "code",
   "execution_count": 153,
   "metadata": {},
   "outputs": [
    {
     "ename": "SyntaxError",
     "evalue": "unexpected EOF while parsing (<ipython-input-153-9b07e9b56b3c>, line 5)",
     "output_type": "error",
     "traceback": [
      "\u001b[1;36m  File \u001b[1;32m\"<ipython-input-153-9b07e9b56b3c>\"\u001b[1;36m, line \u001b[1;32m5\u001b[0m\n\u001b[1;33m    \u001b[0m\n\u001b[1;37m    ^\u001b[0m\n\u001b[1;31mSyntaxError\u001b[0m\u001b[1;31m:\u001b[0m unexpected EOF while parsing\n"
     ]
    }
   ],
   "source": [
    "x = [[4, 1, 1], [5, 9, 0]]\n",
    "\n",
    "for i in x:\n",
    "    for k in i:\n",
    "        "
   ]
  },
  {
   "cell_type": "code",
   "execution_count": 162,
   "metadata": {},
   "outputs": [
    {
     "name": "stdout",
     "output_type": "stream",
     "text": [
      "Item0  10.62\n",
      "Item1  16.14\n",
      "Item2  6.45\n",
      "Item3  17.11\n"
     ]
    }
   ],
   "source": [
    "#20.\n",
    "q = [10.62, 16.14, 6.45, 17.11]\n",
    "for j, z in enumerate(q):\n",
    "    print( 'Item' + str( j ) + '' , '', str ( z ))\n"
   ]
  },
  {
   "cell_type": "code",
   "execution_count": null,
   "metadata": {},
   "outputs": [],
   "source": [
    "#21. \n",
    " Which of these about a dictionary is false?\n",
    "a) The values of a dictionary can be accessed using keys\n",
    "##b) The keys of a dictionary can be accessed using values ( we alway use keys for acceesing values)\n",
    "c) Dictionaries aren’t ordered\n",
    "d) Dictionaries are mutable"
   ]
  },
  {
   "cell_type": "code",
   "execution_count": 170,
   "metadata": {},
   "outputs": [
    {
     "name": "stdout",
     "output_type": "stream",
     "text": [
      "{0: 1, 1: 1, 2: 1}\n"
     ]
    }
   ],
   "source": [
    "D = dict()\n",
    "for i in range (3):\n",
    "    for j in range(2):\n",
    "        D[i] = j\n",
    "print(D)"
   ]
  },
  {
   "cell_type": "code",
   "execution_count": null,
   "metadata": {},
   "outputs": [],
   "source": [
    "#23. You are writing a function that increments player score in a soccer game\n",
    "def increment_score ( bonus , score , points ):\n",
    "    To meet the first requirement line 01 must be change to\n",
    " def increment_score ( bonus , score , points = 1 ): (True or False)\n",
    "To meet the second requirement line 01 must be change to\n",
    " ##def increment_score ( bonus = True , score , points = 1 ): (True or False) agrument is in start ,this will generate error \n",
    " Once a parameter is defined with default value, any parameter to the right must \n",
    "also be defined with default values (True or False)"
   ]
  },
  {
   "cell_type": "code",
   "execution_count": 173,
   "metadata": {},
   "outputs": [
    {
     "name": "stdout",
     "output_type": "stream",
     "text": [
      "11.333333333333334\n"
     ]
    }
   ],
   "source": [
    "#24. What will be output?\n",
    "def avg ( x , y , z = 50 ):\n",
    "    adding = x + y + z\n",
    "    avg_value = adding / 3\n",
    "    return avg_value\n",
    "y = avg ( x = 5 , y = 9 , z = 20 )\n",
    "print(y)"
   ]
  },
  {
   "cell_type": "code",
   "execution_count": 16,
   "metadata": {},
   "outputs": [
    {
     "ename": "NameError",
     "evalue": "name 'avg_value' is not defined",
     "output_type": "error",
     "traceback": [
      "\u001b[1;31m---------------------------------------------------------------------------\u001b[0m",
      "\u001b[1;31mNameError\u001b[0m                                 Traceback (most recent call last)",
      "\u001b[1;32m<ipython-input-16-bafb26e86571>\u001b[0m in \u001b[0;36m<module>\u001b[1;34m()\u001b[0m\n\u001b[0;32m      3\u001b[0m \u001b[1;32mdef\u001b[0m \u001b[0mavg\u001b[0m \u001b[1;33m(\u001b[0m\u001b[0mname\u001b[0m\u001b[1;33m,\u001b[0m\u001b[1;33m*\u001b[0m\u001b[0mopt_values\u001b[0m \u001b[1;33m)\u001b[0m\u001b[1;33m:\u001b[0m\u001b[1;33m\u001b[0m\u001b[0m\n\u001b[0;32m      4\u001b[0m     \u001b[0mavg_value\u001b[0m \u001b[1;33m=\u001b[0m \u001b[0msum\u001b[0m \u001b[1;33m(\u001b[0m\u001b[0mopt_values\u001b[0m\u001b[1;33m)\u001b[0m \u001b[1;33m/\u001b[0m \u001b[0mlen\u001b[0m\u001b[1;33m(\u001b[0m\u001b[0mopt_values\u001b[0m\u001b[1;33m)\u001b[0m\u001b[1;33m\u001b[0m\u001b[0m\n\u001b[1;32m----> 5\u001b[1;33m \u001b[0mprint\u001b[0m\u001b[1;33m(\u001b[0m\u001b[1;34m'name is: '\u001b[0m\u001b[1;34m' + name + '\u001b[0m\u001b[1;34m'Marks:'\u001b[0m  \u001b[1;33m+\u001b[0m \u001b[0mstr\u001b[0m\u001b[1;33m(\u001b[0m\u001b[0mavg_value\u001b[0m\u001b[1;33m)\u001b[0m\u001b[1;33m)\u001b[0m\u001b[1;33m\u001b[0m\u001b[0m\n\u001b[0m\u001b[0;32m      6\u001b[0m \u001b[0mavg\u001b[0m \u001b[1;33m(\u001b[0m \u001b[1;36m5\u001b[0m \u001b[1;33m,\u001b[0m \u001b[1;36m9\u001b[0m \u001b[1;33m,\u001b[0m \u001b[1;36m20\u001b[0m\u001b[1;33m,\u001b[0m \u001b[1;36m34\u001b[0m\u001b[1;33m,\u001b[0m \u001b[1;36m87\u001b[0m\u001b[1;33m,\u001b[0m \u001b[1;36m112\u001b[0m \u001b[1;33m,\u001b[0m \u001b[1;34m'Ali'\u001b[0m \u001b[1;33m)\u001b[0m\u001b[1;33m\u001b[0m\u001b[0m\n",
      "\u001b[1;31mNameError\u001b[0m: name 'avg_value' is not defined"
     ]
    }
   ],
   "source": [
    "#25. What will be output? Describe it with reason and logic behind. Do multiple experiments with \n",
    "#arguments / parameters to remove error, if occurs.\n",
    "def avg (name,*opt_values ):\n",
    "    avg_value = sum (opt_values) / len(opt_values)\n",
    "print('name is: '' + name + ''Marks:'  + str(avg_value))\n",
    "avg ( 5 , 9 , 20, 34, 87, 112 , 'Ali' )"
   ]
  },
  {
   "cell_type": "code",
   "execution_count": 12,
   "metadata": {},
   "outputs": [
    {
     "name": "stdout",
     "output_type": "stream",
     "text": [
      "The winner was Manchester\n",
      "The score was 1-0\n"
     ]
    }
   ],
   "source": [
    "#26. Final output is not required. Just take copy pencil, think and\n",
    "#write the output of each line, write down the link between parameters and arguments.\n",
    "#Remove one or two ** from other_info and observe the ouput.\n",
    "def display_result(winner, score, **other_info):\n",
    "    print(\"The winner was \" + winner)\n",
    "    print(\"The score was \" + score)\n",
    "display_result(winner=\"Manchester\", score=\"1-0\", overtime =\"yes\", injuries=\"none\" )\n",
    "\n",
    "               "
   ]
  },
  {
   "cell_type": "code",
   "execution_count": 17,
   "metadata": {},
   "outputs": [
    {
     "name": "stdout",
     "output_type": "stream",
     "text": [
      "The winner was Manchester\n",
      "The score was 1-0\n"
     ]
    }
   ],
   "source": [
    "#27. The position of parameters and arguments is re-arranged. Just think and find the logic behind output or error.\n",
    "def display_result(winner, score, **other_info):# \n",
    "    print(\"The winner was \" + winner)\n",
    "    print(\"The score was \" + score)\n",
    "display_result(winner=\"Manchester\", overtime =\"yes\", injuries=\"none\", score=\"1-0\" )"
   ]
  },
  {
   "cell_type": "code",
   "execution_count": 19,
   "metadata": {},
   "outputs": [
    {
     "name": "stdout",
     "output_type": "stream",
     "text": [
      "000123\n"
     ]
    }
   ],
   "source": [
    "#28. What will be the output of the following Python expression if X=123?\n",
    "X=123\n",
    "print(\"%06d\"%X)# is the correct answer\n"
   ]
  },
  {
   "cell_type": "code",
   "execution_count": 20,
   "metadata": {},
   "outputs": [
    {
     "name": "stdout",
     "output_type": "stream",
     "text": [
      "   123\n"
     ]
    }
   ],
   "source": [
    "X=123\n",
    "print(\"%6d\"%X)"
   ]
  },
  {
   "cell_type": "code",
   "execution_count": 21,
   "metadata": {},
   "outputs": [
    {
     "name": "stdout",
     "output_type": "stream",
     "text": [
      "00000123\n"
     ]
    }
   ],
   "source": [
    "X=123\n",
    "print(\"%08d\"%X)"
   ]
  },
  {
   "cell_type": "code",
   "execution_count": 23,
   "metadata": {},
   "outputs": [
    {
     "name": "stdout",
     "output_type": "stream",
     "text": [
      "123.00000\n"
     ]
    }
   ],
   "source": [
    "X=123\n",
    "print(\"%8.5f\"%X)"
   ]
  },
  {
   "cell_type": "code",
   "execution_count": 24,
   "metadata": {},
   "outputs": [
    {
     "name": "stdout",
     "output_type": "stream",
     "text": [
      "1.230000e+02\n"
     ]
    }
   ],
   "source": [
    "X=123\n",
    "print(\"%12e\"%X)"
   ]
  },
  {
   "cell_type": "code",
   "execution_count": 31,
   "metadata": {},
   "outputs": [
    {
     "name": "stdout",
     "output_type": "stream",
     "text": [
      " 123\n"
     ]
    }
   ],
   "source": [
    "X=123\n",
    "print(\"%4s\"%X)"
   ]
  },
  {
   "cell_type": "code",
   "execution_count": 36,
   "metadata": {},
   "outputs": [
    {
     "name": "stdout",
     "output_type": "stream",
     "text": [
      "22.19\n"
     ]
    }
   ],
   "source": [
    "#29\n",
    "x=22.19\n",
    "print(\"%5.2f\"%x)"
   ]
  },
  {
   "cell_type": "code",
   "execution_count": 43,
   "metadata": {},
   "outputs": [
    {
     "data": {
      "text/plain": [
       "'1.234560, 1.234560, 01.23'"
      ]
     },
     "execution_count": 43,
     "metadata": {},
     "output_type": "execute_result"
    }
   ],
   "source": [
    "#20\n",
    "'{0:f}, {1:2f}, {2:05.2f}'.format(1.23456, 1.23456, 1.23456)"
   ]
  },
  {
   "cell_type": "code",
   "execution_count": 1,
   "metadata": {},
   "outputs": [
    {
     "name": "stdout",
     "output_type": "stream",
     "text": [
      "9\n"
     ]
    }
   ],
   "source": [
    "#31. Write down the output of each line after each iterations. Do multiple experiments to change values\n",
    "i = 7\n",
    "while False:\n",
    "    if i%2 == 0:\n",
    "        break\n",
    "i += 2\n",
    "print(i)\n"
   ]
  },
  {
   "cell_type": "code",
   "execution_count": 12,
   "metadata": {},
   "outputs": [
    {
     "name": "stdout",
     "output_type": "stream",
     "text": [
      "a "
     ]
    }
   ],
   "source": [
    "#32. Write down the output of each line after each iterations. Do multiple experiments to change values\n",
    "x = \"abcdef\"\n",
    "i = \"a\"\n",
    "while i in x:\n",
    "    x = x[:-1]\n",
    "print(i, end = \" \")"
   ]
  },
  {
   "cell_type": "code",
   "execution_count": 26,
   "metadata": {},
   "outputs": [
    {
     "name": "stdout",
     "output_type": "stream",
     "text": [
      "d\n",
      "c\n",
      "b\n",
      "a\n"
     ]
    }
   ],
   "source": [
    "#33. Write down the output of each line after each iterations. Do multiple experiments to change values\n",
    "for i in ''.join(reversed(list('abcd'))):\n",
    "    print (i)"
   ]
  },
  {
   "cell_type": "code",
   "execution_count": 23,
   "metadata": {},
   "outputs": [
    {
     "name": "stdout",
     "output_type": "stream",
     "text": [
      "d\n",
      "c\n",
      "b\n",
      "a\n"
     ]
    }
   ],
   "source": [
    "for i in reversed(list('abcd')):\n",
    "    print (i)"
   ]
  },
  {
   "cell_type": "code",
   "execution_count": 30,
   "metadata": {},
   "outputs": [
    {
     "name": "stdout",
     "output_type": "stream",
     "text": [
      "0\n",
      "1\n",
      "2\n",
      "3\n",
      "4\n"
     ]
    }
   ],
   "source": [
    "#34. Flow of the program. Write the output of each line after every iteration of ‘i’\n",
    "for i in range(10):\n",
    "    if i == 5: # when the value of i equal to 5 it generate o/p(01234) \n",
    "        break\n",
    "    else:\n",
    "        print(i)\n",
    "else:\n",
    "    print(\"Here\")"
   ]
  },
  {
   "cell_type": "code",
   "execution_count": 40,
   "metadata": {},
   "outputs": [
    {
     "name": "stdout",
     "output_type": "stream",
     "text": [
      "48\n"
     ]
    }
   ],
   "source": [
    "#35. What is the output? And understand the functionality of lambda function\n",
    "y = 6\n",
    "z = lambda x: x * y\n",
    "print (z(8))"
   ]
  },
  {
   "cell_type": "code",
   "execution_count": 44,
   "metadata": {},
   "outputs": [
    {
     "ename": "IndentationError",
     "evalue": "expected an indented block (<ipython-input-44-814096c84fe5>, line 4)",
     "output_type": "error",
     "traceback": [
      "\u001b[1;36m  File \u001b[1;32m\"<ipython-input-44-814096c84fe5>\"\u001b[1;36m, line \u001b[1;32m4\u001b[0m\n\u001b[1;33m    i=i+1\u001b[0m\n\u001b[1;37m    ^\u001b[0m\n\u001b[1;31mIndentationError\u001b[0m\u001b[1;31m:\u001b[0m expected an indented block\n"
     ]
    }
   ],
   "source": [
    "#36. Write output and give proper logic of whatever the output comes.\n",
    "i=0\n",
    "def change(i):\n",
    "i=i+1\n",
    "return i\n",
    "change(1)\n",
    "print(i)"
   ]
  },
  {
   "cell_type": "code",
   "execution_count": 48,
   "metadata": {},
   "outputs": [
    {
     "name": "stdout",
     "output_type": "stream",
     "text": [
      "<class 'tuple'>\n",
      "(2, 3, 4)\n",
      "1\n"
     ]
    }
   ],
   "source": [
    "#40. What will be output? Define this output clearly\n",
    "def change(one, *two):\n",
    "    print(type(two))\n",
    "    print(two)\n",
    "    print(one)\n",
    "change(1,2,3,4)"
   ]
  },
  {
   "cell_type": "code",
   "execution_count": 57,
   "metadata": {},
   "outputs": [
    {
     "name": "stdout",
     "output_type": "stream",
     "text": [
      "<class 'dict'>\n",
      "<class 'str'>\n"
     ]
    }
   ],
   "source": [
    "#41. What will be output? Define this output clearly\n",
    "def find(a, **b):\n",
    "    print(type(b))\n",
    "    print(type(a))\n",
    "find('letters',A='1',B='2')\n"
   ]
  },
  {
   "cell_type": "code",
   "execution_count": 61,
   "metadata": {},
   "outputs": [
    {
     "name": "stdout",
     "output_type": "stream",
     "text": [
      "[0]\n",
      "[0, 1]\n",
      "[0, 1, 2]\n"
     ]
    }
   ],
   "source": [
    "#42. Write output and define each line’s output for each iteration of ‘i’\n",
    "def foo(i, x=[]):\n",
    "    x.append(i)\n",
    "    return x\n",
    "for i in range(3):\n",
    "    print(foo(i))"
   ]
  },
  {
   "cell_type": "code",
   "execution_count": 64,
   "metadata": {},
   "outputs": [
    {
     "ename": "TypeError",
     "evalue": "'int' object is not callable",
     "output_type": "error",
     "traceback": [
      "\u001b[1;31m---------------------------------------------------------------------------\u001b[0m",
      "\u001b[1;31mTypeError\u001b[0m                                 Traceback (most recent call last)",
      "\u001b[1;32m<ipython-input-64-fa3d8aa8846b>\u001b[0m in \u001b[0;36m<module>\u001b[1;34m()\u001b[0m\n\u001b[0;32m      1\u001b[0m \u001b[1;31m#43. Evaluate the following Python arithmetic expression: and write which segment\u001b[0m\u001b[1;33m\u001b[0m\u001b[1;33m\u001b[0m\u001b[0m\n\u001b[0;32m      2\u001b[0m \u001b[1;31m#will execute first? (Brackets, Exponents, Multiplication, Addition / Subtraction, Left to right rule)\u001b[0m\u001b[1;33m\u001b[0m\u001b[1;33m\u001b[0m\u001b[0m\n\u001b[1;32m----> 3\u001b[1;33m \u001b[0mprint\u001b[0m\u001b[1;33m(\u001b[0m\u001b[1;33m(\u001b[0m\u001b[1;36m3\u001b[0m\u001b[1;33m(\u001b[0m\u001b[1;36m1\u001b[0m\u001b[1;33m+\u001b[0m\u001b[1;36m2\u001b[0m\u001b[1;33m)\u001b[0m\u001b[1;33m**\u001b[0m\u001b[1;36m2\u001b[0m\u001b[1;33m-\u001b[0m\u001b[1;33m(\u001b[0m\u001b[1;36m2\u001b[0m\u001b[1;33m*\u001b[0m\u001b[1;36m2\u001b[0m\u001b[1;33m)\u001b[0m\u001b[1;33m*\u001b[0m\u001b[1;36m3\u001b[0m\u001b[1;33m)\u001b[0m\u001b[1;33m)\u001b[0m\u001b[1;33m\u001b[0m\u001b[0m\n\u001b[0m",
      "\u001b[1;31mTypeError\u001b[0m: 'int' object is not callable"
     ]
    }
   ],
   "source": [
    "#43. Evaluate the following Python arithmetic expression: and write which segment \n",
    "#will execute first? (Brackets, Exponents, Multiplication, Addition / Subtraction, Left to right rule)\n",
    "(3(1+2)**2-(2*2)*3)\n",
    "(3(9)-(4)*12)\n",
    "(27-12)\n",
    "15\n"
   ]
  },
  {
   "cell_type": "code",
   "execution_count": null,
   "metadata": {},
   "outputs": [],
   "source": [
    "#44.You are creating a function that manipulates a number. The function has the following requirements:\n",
    "# A float is passed into the function\n",
    "# The function must take the absolute value of the float\n",
    "# Any decimal points after the integer must be removed\n"
   ]
  },
  {
   "cell_type": "code",
   "execution_count": 71,
   "metadata": {},
   "outputs": [
    {
     "ename": "NameError",
     "evalue": "name 'random' is not defined",
     "output_type": "error",
     "traceback": [
      "\u001b[1;31m---------------------------------------------------------------------------\u001b[0m",
      "\u001b[1;31mNameError\u001b[0m                                 Traceback (most recent call last)",
      "\u001b[1;32m<ipython-input-71-f84aa49c48cd>\u001b[0m in \u001b[0;36m<module>\u001b[1;34m()\u001b[0m\n\u001b[0;32m      1\u001b[0m \u001b[1;31m#45. You are writing code that generates a random integer with a minimum value of 5 and a maximum value of 11.\u001b[0m\u001b[1;33m\u001b[0m\u001b[1;33m\u001b[0m\u001b[0m\n\u001b[1;32m----> 2\u001b[1;33m \u001b[0mrandom\u001b[0m\u001b[1;33m.\u001b[0m\u001b[0mrandint\u001b[0m\u001b[1;33m(\u001b[0m\u001b[1;36m5\u001b[0m\u001b[1;33m,\u001b[0m \u001b[1;36m12\u001b[0m\u001b[1;33m)\u001b[0m\u001b[1;33m\u001b[0m\u001b[0m\n\u001b[0m",
      "\u001b[1;31mNameError\u001b[0m: name 'random' is not defined"
     ]
    }
   ],
   "source": [
    "#45. You are writing code that generates a random integer with a minimum value of 5 and a maximum value of 11.\n",
    "#ANS:\n",
    "B. random.randint(5, 11)\n",
    "C. random.randrange(5, 12, 1)"
   ]
  },
  {
   "cell_type": "markdown",
   "metadata": {},
   "source": [
    "# 46. Write a program that receives marks from user and check the grade.\n",
    "Marks greater than equal to 90 then A grade\n",
    "Marks between 80 to 90, B grade\n",
    "Marks between 70 to 80, C grade\n",
    "Marks between 60 to 70, D grade\n",
    "Marks less than equal to 60 then E grade"
   ]
  },
  {
   "cell_type": "code",
   "execution_count": 4,
   "metadata": {},
   "outputs": [
    {
     "name": "stdout",
     "output_type": "stream",
     "text": [
      "enter marks: 66\n",
      "enter marks: 66\n",
      "enter marks: 44\n",
      "enter marks: 66\n",
      "enter marks: 55\n",
      "Grade is E    Perectage is  59.4\n"
     ]
    }
   ],
   "source": [
    "eng=int(input(\"enter marks: \"))\n",
    "chem=int(input(\"enter marks: \"))\n",
    "math=int(input(\"enter marks: \"))\n",
    "urdu=int(input(\"enter marks: \"))\n",
    "python=int(input(\"enter marks: \"))\n",
    "total=eng+chem+math+python+urdu\n",
    "percentage=total/500*100\n",
    "if (percentage>=90):\n",
    "    print(\"Grade is A \",\" \",\"Perectage is \",percentage)\n",
    "    \n",
    "elif (percentage >=80 and percentage<90):\n",
    "    print(\"Grade is B \",\" \",\"Perectage is \",percentage)\n",
    "    \n",
    "elif (percentage >=70 and percentage <80):\n",
    "    print(\"Grade is C \",\" \",\"Perectage is \",percentage)\n",
    "    \n",
    "elif (percentage >=60 and percentage <70):\n",
    "    print(\"Grade is D \",\" \",\"Perectage is \",percentage)\n",
    "    \n",
    "elif (percentage >=50 and percentage <60):\n",
    "    print(\"Grade is E \",\" \",\"Perectage is \",percentage)\n",
    "    \n",
    "else:\n",
    "    print(\"Grade is F \",\" \",\"Perectage is \",percentage)\n",
    "    \n",
    "\n"
   ]
  },
  {
   "cell_type": "code",
   "execution_count": null,
   "metadata": {},
   "outputs": [],
   "source": []
  }
 ],
 "metadata": {
  "kernelspec": {
   "display_name": "Python 3",
   "language": "python",
   "name": "python3"
  },
  "language_info": {
   "codemirror_mode": {
    "name": "ipython",
    "version": 3
   },
   "file_extension": ".py",
   "mimetype": "text/x-python",
   "name": "python",
   "nbconvert_exporter": "python",
   "pygments_lexer": "ipython3",
   "version": "3.7.0"
  }
 },
 "nbformat": 4,
 "nbformat_minor": 2
}
